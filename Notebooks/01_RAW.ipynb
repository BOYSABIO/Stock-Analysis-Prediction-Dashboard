{
 "cells": [
  {
   "cell_type": "markdown",
   "metadata": {},
   "source": [
    "Notebook for Extracting & Saving Raw Data"
   ]
  },
  {
   "cell_type": "markdown",
   "metadata": {},
   "source": [
    "First:\n",
    "- Loads daily stock prices using the SimFin API.\n",
    "- Saves data to stock_prices.csv.\n",
    "- Then reads it again and does basic inspection (head(), describe(), isna().mean()).\n",
    "\n",
    "Then:\n",
    "- Downloads annual income statements (load_income()).\n",
    "- Saves to us_income_statements.csv.\n",
    "- Downloads metadata about companies into us_companies_list.csv."
   ]
  },
  {
   "cell_type": "code",
   "execution_count": 1,
   "metadata": {},
   "outputs": [],
   "source": [
    "import os\n",
    "from dotenv import load_dotenv\n",
    "import requests\n",
    "import json\n",
    "import pandas as pd\n",
    "import simfin as sf\n",
    "from simfin.names import CLOSE, OPEN, HIGH, LOW, VOLUME, TICKER\n",
    "from simfin.names import *"
   ]
  },
  {
   "cell_type": "code",
   "execution_count": 2,
   "metadata": {},
   "outputs": [],
   "source": [
    "# load environment variables from the .env file\n",
    "load_dotenv()\n",
    "\n",
    "# get the API token from the environment variables\n",
    "api_key = os.getenv('API_KEY')"
   ]
  },
  {
   "cell_type": "code",
   "execution_count": 3,
   "metadata": {},
   "outputs": [],
   "source": [
    "os.makedirs(\"data/RAW\", exist_ok=True)\n"
   ]
  },
  {
   "cell_type": "code",
   "execution_count": 4,
   "metadata": {},
   "outputs": [
    {
     "name": "stdout",
     "output_type": "stream",
     "text": [
      "📥 Downloading US stock market data...\n",
      "Dataset \"us-shareprices-daily\" on disk (0 days old).\n",
      "- Loading from disk ... "
     ]
    },
    {
     "name": "stderr",
     "output_type": "stream",
     "text": [
      "c:\\Users\\bburg\\anaconda3\\Lib\\site-packages\\simfin\\load.py:154: FutureWarning: The argument 'date_parser' is deprecated and will be removed in a future version. Please use 'date_format' instead, or read your data in as 'object' dtype and then call 'to_datetime'.\n",
      "  df = pd.read_csv(path, sep=';', header=0,\n"
     ]
    },
    {
     "name": "stdout",
     "output_type": "stream",
     "text": [
      "Done!\n",
      "✅ Data saved to: data/RAW/stock_prices.csv\n"
     ]
    }
   ],
   "source": [
    "def load_data():\n",
    "    \"\"\"\n",
    "    Loads daily stock prices for all US companies from SimFin \n",
    "    and saves the raw data to a specified directory for processing.\n",
    "    \"\"\"\n",
    "\n",
    "    # Set SimFin API key (Replace with your actual key)\n",
    "    sf.set_api_key(api_key)\n",
    "\n",
    "    # Set SimFin data directory (ensure it exists)\n",
    "    sf.set_data_dir(\"~/simfin_data/\")\n",
    "\n",
    "    # Load daily stock prices for all US companies\n",
    "    print(\"📥 Downloading US stock market data...\")\n",
    "    df_prices = sf.load_shareprices(market=\"us\", variant=\"daily\")\n",
    "\n",
    "    # Reset index to make 'Date' a normal column\n",
    "    df_prices = df_prices.reset_index()\n",
    "\n",
    "    # Define save path - ADAPT TO YOUR LOCAL ENVIRONMENT\n",
    "    save_path = \"data/RAW/stock_prices.csv\"\n",
    "\n",
    "    # Save raw data to CSV\n",
    "    df_prices.to_csv(save_path, index=False)\n",
    "\n",
    "    print(f\"Data saved to: {save_path}\")\n",
    "\n",
    "# Run the function\n",
    "load_data()"
   ]
  },
  {
   "cell_type": "code",
   "execution_count": 5,
   "metadata": {},
   "outputs": [
    {
     "data": {
      "text/html": [
       "<div>\n",
       "<style scoped>\n",
       "    .dataframe tbody tr th:only-of-type {\n",
       "        vertical-align: middle;\n",
       "    }\n",
       "\n",
       "    .dataframe tbody tr th {\n",
       "        vertical-align: top;\n",
       "    }\n",
       "\n",
       "    .dataframe thead th {\n",
       "        text-align: right;\n",
       "    }\n",
       "</style>\n",
       "<table border=\"1\" class=\"dataframe\">\n",
       "  <thead>\n",
       "    <tr style=\"text-align: right;\">\n",
       "      <th></th>\n",
       "      <th>Ticker</th>\n",
       "      <th>Date</th>\n",
       "      <th>SimFinId</th>\n",
       "      <th>Open</th>\n",
       "      <th>High</th>\n",
       "      <th>Low</th>\n",
       "      <th>Close</th>\n",
       "      <th>Adj. Close</th>\n",
       "      <th>Volume</th>\n",
       "      <th>Dividend</th>\n",
       "      <th>Shares Outstanding</th>\n",
       "    </tr>\n",
       "  </thead>\n",
       "  <tbody>\n",
       "    <tr>\n",
       "      <th>0</th>\n",
       "      <td>A</td>\n",
       "      <td>2019-04-25</td>\n",
       "      <td>45846</td>\n",
       "      <td>75.26</td>\n",
       "      <td>77.04</td>\n",
       "      <td>74.94</td>\n",
       "      <td>76.72</td>\n",
       "      <td>73.68</td>\n",
       "      <td>1481436</td>\n",
       "      <td>NaN</td>\n",
       "      <td>317515869.0</td>\n",
       "    </tr>\n",
       "    <tr>\n",
       "      <th>1</th>\n",
       "      <td>A</td>\n",
       "      <td>2019-04-26</td>\n",
       "      <td>45846</td>\n",
       "      <td>76.98</td>\n",
       "      <td>77.46</td>\n",
       "      <td>76.30</td>\n",
       "      <td>77.42</td>\n",
       "      <td>74.36</td>\n",
       "      <td>1608922</td>\n",
       "      <td>NaN</td>\n",
       "      <td>317515869.0</td>\n",
       "    </tr>\n",
       "    <tr>\n",
       "      <th>2</th>\n",
       "      <td>A</td>\n",
       "      <td>2019-04-29</td>\n",
       "      <td>45846</td>\n",
       "      <td>77.47</td>\n",
       "      <td>78.44</td>\n",
       "      <td>77.32</td>\n",
       "      <td>77.33</td>\n",
       "      <td>74.27</td>\n",
       "      <td>2177700</td>\n",
       "      <td>NaN</td>\n",
       "      <td>317515869.0</td>\n",
       "    </tr>\n",
       "    <tr>\n",
       "      <th>3</th>\n",
       "      <td>A</td>\n",
       "      <td>2019-04-30</td>\n",
       "      <td>45846</td>\n",
       "      <td>77.44</td>\n",
       "      <td>78.59</td>\n",
       "      <td>77.38</td>\n",
       "      <td>78.50</td>\n",
       "      <td>75.39</td>\n",
       "      <td>1726239</td>\n",
       "      <td>NaN</td>\n",
       "      <td>317000000.0</td>\n",
       "    </tr>\n",
       "    <tr>\n",
       "      <th>4</th>\n",
       "      <td>A</td>\n",
       "      <td>2019-05-01</td>\n",
       "      <td>45846</td>\n",
       "      <td>78.49</td>\n",
       "      <td>78.92</td>\n",
       "      <td>77.28</td>\n",
       "      <td>77.47</td>\n",
       "      <td>74.40</td>\n",
       "      <td>1078572</td>\n",
       "      <td>NaN</td>\n",
       "      <td>317000000.0</td>\n",
       "    </tr>\n",
       "  </tbody>\n",
       "</table>\n",
       "</div>"
      ],
      "text/plain": [
       "  Ticker        Date  SimFinId   Open   High    Low  Close  Adj. Close  \\\n",
       "0      A  2019-04-25     45846  75.26  77.04  74.94  76.72       73.68   \n",
       "1      A  2019-04-26     45846  76.98  77.46  76.30  77.42       74.36   \n",
       "2      A  2019-04-29     45846  77.47  78.44  77.32  77.33       74.27   \n",
       "3      A  2019-04-30     45846  77.44  78.59  77.38  78.50       75.39   \n",
       "4      A  2019-05-01     45846  78.49  78.92  77.28  77.47       74.40   \n",
       "\n",
       "    Volume  Dividend  Shares Outstanding  \n",
       "0  1481436       NaN         317515869.0  \n",
       "1  1608922       NaN         317515869.0  \n",
       "2  2177700       NaN         317515869.0  \n",
       "3  1726239       NaN         317000000.0  \n",
       "4  1078572       NaN         317000000.0  "
      ]
     },
     "execution_count": 5,
     "metadata": {},
     "output_type": "execute_result"
    }
   ],
   "source": [
    "# Read the saved CSV file into a DataFrame\n",
    "df_prices = pd.read_csv(\"data/RAW/stock_prices.csv\")\n",
    "\n",
    "# Display the first few rows to confirm it loaded correctly\n",
    "df_prices.head()"
   ]
  },
  {
   "cell_type": "code",
   "execution_count": 6,
   "metadata": {},
   "outputs": [
    {
     "data": {
      "text/html": [
       "<div>\n",
       "<style scoped>\n",
       "    .dataframe tbody tr th:only-of-type {\n",
       "        vertical-align: middle;\n",
       "    }\n",
       "\n",
       "    .dataframe tbody tr th {\n",
       "        vertical-align: top;\n",
       "    }\n",
       "\n",
       "    .dataframe thead th {\n",
       "        text-align: right;\n",
       "    }\n",
       "</style>\n",
       "<table border=\"1\" class=\"dataframe\">\n",
       "  <thead>\n",
       "    <tr style=\"text-align: right;\">\n",
       "      <th></th>\n",
       "      <th>SimFinId</th>\n",
       "      <th>Open</th>\n",
       "      <th>High</th>\n",
       "      <th>Low</th>\n",
       "      <th>Close</th>\n",
       "      <th>Adj. Close</th>\n",
       "      <th>Volume</th>\n",
       "      <th>Dividend</th>\n",
       "      <th>Shares Outstanding</th>\n",
       "    </tr>\n",
       "  </thead>\n",
       "  <tbody>\n",
       "    <tr>\n",
       "      <th>count</th>\n",
       "      <td>5.875518e+06</td>\n",
       "      <td>5.875518e+06</td>\n",
       "      <td>5.875518e+06</td>\n",
       "      <td>5.875518e+06</td>\n",
       "      <td>5.875518e+06</td>\n",
       "      <td>5.875518e+06</td>\n",
       "      <td>5.875518e+06</td>\n",
       "      <td>35897.000000</td>\n",
       "      <td>5.330811e+06</td>\n",
       "    </tr>\n",
       "    <tr>\n",
       "      <th>mean</th>\n",
       "      <td>5.948873e+06</td>\n",
       "      <td>1.616688e+04</td>\n",
       "      <td>1.626536e+04</td>\n",
       "      <td>1.603282e+04</td>\n",
       "      <td>1.612413e+04</td>\n",
       "      <td>1.612196e+04</td>\n",
       "      <td>1.783404e+06</td>\n",
       "      <td>0.454983</td>\n",
       "      <td>5.984403e+11</td>\n",
       "    </tr>\n",
       "    <tr>\n",
       "      <th>std</th>\n",
       "      <td>6.099526e+06</td>\n",
       "      <td>1.221082e+06</td>\n",
       "      <td>1.224253e+06</td>\n",
       "      <td>1.216641e+06</td>\n",
       "      <td>1.219356e+06</td>\n",
       "      <td>1.219356e+06</td>\n",
       "      <td>2.871690e+07</td>\n",
       "      <td>7.993318</td>\n",
       "      <td>6.169842e+13</td>\n",
       "    </tr>\n",
       "    <tr>\n",
       "      <th>min</th>\n",
       "      <td>1.800000e+01</td>\n",
       "      <td>0.000000e+00</td>\n",
       "      <td>0.000000e+00</td>\n",
       "      <td>0.000000e+00</td>\n",
       "      <td>0.000000e+00</td>\n",
       "      <td>0.000000e+00</td>\n",
       "      <td>0.000000e+00</td>\n",
       "      <td>0.000000</td>\n",
       "      <td>0.000000e+00</td>\n",
       "    </tr>\n",
       "    <tr>\n",
       "      <th>25%</th>\n",
       "      <td>6.277740e+05</td>\n",
       "      <td>7.800000e+00</td>\n",
       "      <td>8.010000e+00</td>\n",
       "      <td>7.580000e+00</td>\n",
       "      <td>7.800000e+00</td>\n",
       "      <td>7.330000e+00</td>\n",
       "      <td>3.596700e+04</td>\n",
       "      <td>0.120000</td>\n",
       "      <td>1.810615e+07</td>\n",
       "    </tr>\n",
       "    <tr>\n",
       "      <th>50%</th>\n",
       "      <td>1.322470e+06</td>\n",
       "      <td>2.026000e+01</td>\n",
       "      <td>2.070000e+01</td>\n",
       "      <td>1.985000e+01</td>\n",
       "      <td>2.025000e+01</td>\n",
       "      <td>1.883000e+01</td>\n",
       "      <td>2.435470e+05</td>\n",
       "      <td>0.250000</td>\n",
       "      <td>4.904325e+07</td>\n",
       "    </tr>\n",
       "    <tr>\n",
       "      <th>75%</th>\n",
       "      <td>1.103598e+07</td>\n",
       "      <td>5.172000e+01</td>\n",
       "      <td>5.265000e+01</td>\n",
       "      <td>5.075000e+01</td>\n",
       "      <td>5.169000e+01</td>\n",
       "      <td>4.874000e+01</td>\n",
       "      <td>9.384885e+05</td>\n",
       "      <td>0.450000</td>\n",
       "      <td>1.313562e+08</td>\n",
       "    </tr>\n",
       "    <tr>\n",
       "      <th>max</th>\n",
       "      <td>1.858941e+07</td>\n",
       "      <td>1.000000e+08</td>\n",
       "      <td>1.000000e+08</td>\n",
       "      <td>1.000000e+08</td>\n",
       "      <td>1.000000e+08</td>\n",
       "      <td>1.000000e+08</td>\n",
       "      <td>1.848998e+10</td>\n",
       "      <td>1500.000000</td>\n",
       "      <td>6.667887e+15</td>\n",
       "    </tr>\n",
       "  </tbody>\n",
       "</table>\n",
       "</div>"
      ],
      "text/plain": [
       "           SimFinId          Open          High           Low         Close  \\\n",
       "count  5.875518e+06  5.875518e+06  5.875518e+06  5.875518e+06  5.875518e+06   \n",
       "mean   5.948873e+06  1.616688e+04  1.626536e+04  1.603282e+04  1.612413e+04   \n",
       "std    6.099526e+06  1.221082e+06  1.224253e+06  1.216641e+06  1.219356e+06   \n",
       "min    1.800000e+01  0.000000e+00  0.000000e+00  0.000000e+00  0.000000e+00   \n",
       "25%    6.277740e+05  7.800000e+00  8.010000e+00  7.580000e+00  7.800000e+00   \n",
       "50%    1.322470e+06  2.026000e+01  2.070000e+01  1.985000e+01  2.025000e+01   \n",
       "75%    1.103598e+07  5.172000e+01  5.265000e+01  5.075000e+01  5.169000e+01   \n",
       "max    1.858941e+07  1.000000e+08  1.000000e+08  1.000000e+08  1.000000e+08   \n",
       "\n",
       "         Adj. Close        Volume      Dividend  Shares Outstanding  \n",
       "count  5.875518e+06  5.875518e+06  35897.000000        5.330811e+06  \n",
       "mean   1.612196e+04  1.783404e+06      0.454983        5.984403e+11  \n",
       "std    1.219356e+06  2.871690e+07      7.993318        6.169842e+13  \n",
       "min    0.000000e+00  0.000000e+00      0.000000        0.000000e+00  \n",
       "25%    7.330000e+00  3.596700e+04      0.120000        1.810615e+07  \n",
       "50%    1.883000e+01  2.435470e+05      0.250000        4.904325e+07  \n",
       "75%    4.874000e+01  9.384885e+05      0.450000        1.313562e+08  \n",
       "max    1.000000e+08  1.848998e+10   1500.000000        6.667887e+15  "
      ]
     },
     "execution_count": 6,
     "metadata": {},
     "output_type": "execute_result"
    }
   ],
   "source": [
    "df_prices.describe()"
   ]
  },
  {
   "cell_type": "code",
   "execution_count": 7,
   "metadata": {},
   "outputs": [
    {
     "data": {
      "text/plain": [
       "Ticker                0.000000\n",
       "Date                  0.000000\n",
       "SimFinId              0.000000\n",
       "Open                  0.000000\n",
       "High                  0.000000\n",
       "Low                   0.000000\n",
       "Close                 0.000000\n",
       "Adj. Close            0.000000\n",
       "Volume                0.000000\n",
       "Dividend              0.993890\n",
       "Shares Outstanding    0.092708\n",
       "dtype: float64"
      ]
     },
     "execution_count": 7,
     "metadata": {},
     "output_type": "execute_result"
    }
   ],
   "source": [
    "df_prices.isna().mean() # 99% of the dividend column is null for all tickers "
   ]
  },
  {
   "cell_type": "code",
   "execution_count": 8,
   "metadata": {},
   "outputs": [
    {
     "name": "stdout",
     "output_type": "stream",
     "text": [
      "Dataset \"us-income-annual\" on disk (0 days old).\n",
      "- Loading from disk ... Done!\n"
     ]
    },
    {
     "name": "stderr",
     "output_type": "stream",
     "text": [
      "c:\\Users\\bburg\\anaconda3\\Lib\\site-packages\\simfin\\load.py:154: FutureWarning: The argument 'date_parser' is deprecated and will be removed in a future version. Please use 'date_format' instead, or read your data in as 'object' dtype and then call 'to_datetime'.\n",
      "  df = pd.read_csv(path, sep=';', header=0,\n"
     ]
    },
    {
     "name": "stdout",
     "output_type": "stream",
     "text": [
      "                  Revenue   Net Income\n",
      "Report Date                           \n",
      "2019-06-30   1.258430e+11  39240000000\n",
      "2020-06-30   1.430150e+11  44281000000\n",
      "2021-06-30   1.680880e+11  61271000000\n",
      "2022-06-30   1.982700e+11  72738000000\n",
      "2023-06-30   2.119150e+11  72361000000\n"
     ]
    }
   ],
   "source": [
    "# Download all US Income Statements\n",
    "df_income = sf.load_income(variant='annual', market='us')\n",
    "\n",
    "# Save to CSV\n",
    "df_income.to_csv(\"data/RAW/us_income_statements.csv\", index=False)\n",
    "\n",
    "# to check, print all Revenue and Net Income for Microsoft (ticker MSFT).\n",
    "print(df_income.loc['MSFT', [REVENUE, NET_INCOME]])"
   ]
  },
  {
   "cell_type": "code",
   "execution_count": 9,
   "metadata": {},
   "outputs": [
    {
     "name": "stdout",
     "output_type": "stream",
     "text": [
      "<class 'pandas.core.frame.DataFrame'>\n",
      "MultiIndex: 17555 entries, ('A', Timestamp('2019-10-31 00:00:00')) to ('ZYXI', Timestamp('2023-12-31 00:00:00'))\n",
      "Data columns (total 26 columns):\n",
      " #   Column                                    Non-Null Count  Dtype         \n",
      "---  ------                                    --------------  -----         \n",
      " 0   SimFinId                                  17555 non-null  int64         \n",
      " 1   Currency                                  17555 non-null  object        \n",
      " 2   Fiscal Year                               17555 non-null  int64         \n",
      " 3   Fiscal Period                             17555 non-null  object        \n",
      " 4   Publish Date                              17555 non-null  datetime64[ns]\n",
      " 5   Restated Date                             17555 non-null  datetime64[ns]\n",
      " 6   Shares (Basic)                            17403 non-null  float64       \n",
      " 7   Shares (Diluted)                          17276 non-null  float64       \n",
      " 8   Revenue                                   15745 non-null  float64       \n",
      " 9   Cost of Revenue                           13770 non-null  float64       \n",
      " 10  Gross Profit                              13773 non-null  float64       \n",
      " 11  Operating Expenses                        17516 non-null  float64       \n",
      " 12  Selling, General & Administrative         16606 non-null  float64       \n",
      " 13  Research & Development                    8231 non-null   float64       \n",
      " 14  Depreciation & Amortization               7083 non-null   float64       \n",
      " 15  Operating Income (Loss)                   17550 non-null  float64       \n",
      " 16  Non-Operating Income (Loss)               17302 non-null  float64       \n",
      " 17  Interest Expense, Net                     15361 non-null  float64       \n",
      " 18  Pretax Income (Loss), Adj.                17550 non-null  float64       \n",
      " 19  Abnormal Gains (Losses)                   11319 non-null  float64       \n",
      " 20  Pretax Income (Loss)                      17551 non-null  float64       \n",
      " 21  Income Tax (Expense) Benefit, Net         14074 non-null  float64       \n",
      " 22  Income (Loss) from Continuing Operations  17555 non-null  int64         \n",
      " 23  Net Extraordinary Gains (Losses)          1684 non-null   float64       \n",
      " 24  Net Income                                17555 non-null  int64         \n",
      " 25  Net Income (Common)                       17555 non-null  int64         \n",
      "dtypes: datetime64[ns](2), float64(17), int64(5), object(2)\n",
      "memory usage: 3.7+ MB\n"
     ]
    }
   ],
   "source": [
    "df_income.info()"
   ]
  },
  {
   "cell_type": "code",
   "execution_count": 10,
   "metadata": {},
   "outputs": [
    {
     "name": "stdout",
     "output_type": "stream",
     "text": [
      "Dataset \"us-companies\" on disk (0 days old).\n",
      "- Loading from disk ... Done!\n"
     ]
    },
    {
     "name": "stderr",
     "output_type": "stream",
     "text": [
      "c:\\Users\\bburg\\anaconda3\\Lib\\site-packages\\simfin\\load.py:154: FutureWarning: The argument 'date_parser' is deprecated and will be removed in a future version. Please use 'date_format' instead, or read your data in as 'object' dtype and then call 'to_datetime'.\n",
      "  df = pd.read_csv(path, sep=';', header=0,\n"
     ]
    }
   ],
   "source": [
    "# Download the list of all US companies with metadata\n",
    "df_companies = sf.load_companies(market='us')\n",
    "\n",
    "# Save to CSV\n",
    "df_companies.to_csv(\"data/RAW/us_companies_list.csv\", index=False)"
   ]
  }
 ],
 "metadata": {
  "kernelspec": {
   "display_name": "base",
   "language": "python",
   "name": "python3"
  },
  "language_info": {
   "codemirror_mode": {
    "name": "ipython",
    "version": 3
   },
   "file_extension": ".py",
   "mimetype": "text/x-python",
   "name": "python",
   "nbconvert_exporter": "python",
   "pygments_lexer": "ipython3",
   "version": "3.12.4"
  }
 },
 "nbformat": 4,
 "nbformat_minor": 2
}
