{
 "cells": [
  {
   "cell_type": "markdown",
   "metadata": {},
   "source": [
    "# 1.2_Enrico_Raw_IncomeStatements.ipynb\n",
    "\n",
    "- Also uses SimFin API.\n",
    "\n",
    "- Downloads annual income statements (load_income()).\n",
    "\n",
    "- Saves to us_income_statements.csv.\n",
    "\n",
    "- Downloads metadata about companies into us_companies_list.csv.\n"
   ]
  },
  {
   "cell_type": "code",
   "execution_count": 1,
   "metadata": {},
   "outputs": [],
   "source": [
    "#!pip install simfin\n",
    "import pandas as pd"
   ]
  },
  {
   "cell_type": "code",
   "execution_count": 3,
   "metadata": {},
   "outputs": [
    {
     "name": "stdout",
     "output_type": "stream",
     "text": [
      "Dataset \"us-income-annual\" not on disk.\n",
      "- Downloading ... 100.0%\n",
      "- Extracting zip-file ... Done!\n",
      "- Loading from disk ... "
     ]
    },
    {
     "name": "stderr",
     "output_type": "stream",
     "text": [
      "c:\\Users\\SLO\\Documents\\GitHub\\python-group-project-2\\.venv\\Lib\\site-packages\\simfin\\load.py:154: FutureWarning: The argument 'date_parser' is deprecated and will be removed in a future version. Please use 'date_format' instead, or read your data in as 'object' dtype and then call 'to_datetime'.\n",
      "  df = pd.read_csv(path, sep=';', header=0,\n"
     ]
    },
    {
     "name": "stdout",
     "output_type": "stream",
     "text": [
      "Done!\n",
      "                  Revenue   Net Income\n",
      "Report Date                           \n",
      "2019-06-30   1.258430e+11  39240000000\n",
      "2020-06-30   1.430150e+11  44281000000\n",
      "2021-06-30   1.680880e+11  61271000000\n",
      "2022-06-30   1.982700e+11  72738000000\n",
      "2023-06-30   2.119150e+11  72361000000\n"
     ]
    }
   ],
   "source": [
    "import pandas as pd\n",
    "import simfin as sf\n",
    "from simfin.names import *\n",
    "import os\n",
    "from dotenv import load_dotenv\n",
    "\n",
    "load_dotenv()\n",
    "SIMFIN_API_KEY = os.getenv('API_KEY')\n",
    "\n",
    "# Set your API-key for downloading data.\n",
    "# Replace YOUR_API_KEY with your actual API-key.\n",
    "sf.set_api_key(SIMFIN_API_KEY)\n",
    "\n",
    "# Set the local directory where data-files are stored.\n",
    "# The dir will be created if it does not already exist.\n",
    "sf.set_data_dir('data/RAW')\n",
    "\n",
    "# Download all US Income Statements\n",
    "df_income = sf.load_income(variant='annual', market='us')\n",
    "\n",
    "# Save to CSV\n",
    "df_income.to_csv(\"data/RAW/us_income_statements.csv\", index=False)\n",
    "\n",
    "\n",
    "\n",
    "# Print all Revenue and Net Income for Microsoft (ticker MSFT).\n",
    "print(df_income.loc['MSFT', [REVENUE, NET_INCOME]])"
   ]
  },
  {
   "cell_type": "code",
   "execution_count": 2,
   "metadata": {},
   "outputs": [
    {
     "name": "stdout",
     "output_type": "stream",
     "text": [
      "<class 'pandas.core.frame.DataFrame'>\n",
      "MultiIndex: 17596 entries, ('A', Timestamp('2019-10-31 00:00:00')) to ('ZYXI', Timestamp('2023-12-31 00:00:00'))\n",
      "Data columns (total 26 columns):\n",
      " #   Column                                    Non-Null Count  Dtype         \n",
      "---  ------                                    --------------  -----         \n",
      " 0   SimFinId                                  17596 non-null  int64         \n",
      " 1   Currency                                  17596 non-null  object        \n",
      " 2   Fiscal Year                               17596 non-null  int64         \n",
      " 3   Fiscal Period                             17596 non-null  object        \n",
      " 4   Publish Date                              17596 non-null  datetime64[ns]\n",
      " 5   Restated Date                             17596 non-null  datetime64[ns]\n",
      " 6   Shares (Basic)                            17450 non-null  float64       \n",
      " 7   Shares (Diluted)                          17316 non-null  float64       \n",
      " 8   Revenue                                   15787 non-null  float64       \n",
      " 9   Cost of Revenue                           13807 non-null  float64       \n",
      " 10  Gross Profit                              13810 non-null  float64       \n",
      " 11  Operating Expenses                        17554 non-null  float64       \n",
      " 12  Selling, General & Administrative         16636 non-null  float64       \n",
      " 13  Research & Development                    8251 non-null   float64       \n",
      " 14  Depreciation & Amortization               7109 non-null   float64       \n",
      " 15  Operating Income (Loss)                   17591 non-null  float64       \n",
      " 16  Non-Operating Income (Loss)               17340 non-null  float64       \n",
      " 17  Interest Expense, Net                     15392 non-null  float64       \n",
      " 18  Pretax Income (Loss), Adj.                17591 non-null  float64       \n",
      " 19  Abnormal Gains (Losses)                   11360 non-null  float64       \n",
      " 20  Pretax Income (Loss)                      17592 non-null  float64       \n",
      " 21  Income Tax (Expense) Benefit, Net         14117 non-null  float64       \n",
      " 22  Income (Loss) from Continuing Operations  17596 non-null  int64         \n",
      " 23  Net Extraordinary Gains (Losses)          1681 non-null   float64       \n",
      " 24  Net Income                                17596 non-null  int64         \n",
      " 25  Net Income (Common)                       17596 non-null  int64         \n",
      "dtypes: datetime64[ns](2), float64(17), int64(5), object(2)\n",
      "memory usage: 3.7+ MB\n"
     ]
    }
   ],
   "source": [
    "df_income.info()"
   ]
  },
  {
   "cell_type": "code",
   "execution_count": 4,
   "metadata": {},
   "outputs": [
    {
     "name": "stdout",
     "output_type": "stream",
     "text": [
      "Dataset \"us-companies\" not on disk.\n",
      "- Downloading ... 100.0%\n",
      "- Extracting zip-file ... Done!\n",
      "- Loading from disk ... Done!\n"
     ]
    },
    {
     "name": "stderr",
     "output_type": "stream",
     "text": [
      "/opt/anaconda3/lib/python3.11/site-packages/simfin/load.py:154: FutureWarning: The argument 'date_parser' is deprecated and will be removed in a future version. Please use 'date_format' instead, or read your data in as 'object' dtype and then call 'to_datetime'.\n",
      "  df = pd.read_csv(path, sep=';', header=0,\n"
     ]
    }
   ],
   "source": [
    "# Download the list of all US companies with metadata\n",
    "df_companies = sf.load_companies(market='us')\n",
    "\n",
    "# Save to CSV\n",
    "df_companies.to_csv(\"us_companies_list.csv\", index=False)"
   ]
  }
 ],
 "metadata": {
  "kernelspec": {
   "display_name": ".venv",
   "language": "python",
   "name": "python3"
  },
  "language_info": {
   "codemirror_mode": {
    "name": "ipython",
    "version": 3
   },
   "file_extension": ".py",
   "mimetype": "text/x-python",
   "name": "python",
   "nbconvert_exporter": "python",
   "pygments_lexer": "ipython3",
   "version": "3.12.0"
  }
 },
 "nbformat": 4,
 "nbformat_minor": 2
}
