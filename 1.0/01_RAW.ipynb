{
 "cells": [
  {
   "cell_type": "markdown",
   "metadata": {},
   "source": [
    "Notebook for Extracting & Saving Raw Data"
   ]
  },
  {
   "cell_type": "code",
   "execution_count": 18,
   "metadata": {},
   "outputs": [],
   "source": [
    "import os\n",
    "from dotenv import load_dotenv\n",
    "import requests\n",
    "import json\n",
    "import pandas as pd\n",
    "import simfin as sf"
   ]
  },
  {
   "cell_type": "code",
   "execution_count": 19,
   "metadata": {},
   "outputs": [],
   "source": [
    "# load environment variables from the .env file\n",
    "load_dotenv()\n",
    "\n",
    "# get the API token from the environment variables\n",
    "api_key = os.getenv('API_KEY')"
   ]
  },
  {
   "cell_type": "code",
   "execution_count": 20,
   "metadata": {},
   "outputs": [
    {
     "name": "stdout",
     "output_type": "stream",
     "text": [
      "<Response [200]>\n"
     ]
    }
   ],
   "source": [
    "url = \"https://backend.simfin.com/api/v3/companies/general/compact\"\n",
    "\n",
    "headers = {\n",
    "    \"accept\": \"application/json\",\n",
    "    \"Authorization\": f\"{api_key}\"\n",
    "}\n",
    "\n",
    "response = requests.get(url, headers=headers)\n",
    "\n",
    "print(response)"
   ]
  },
  {
   "cell_type": "code",
   "execution_count": 21,
   "metadata": {},
   "outputs": [],
   "source": [
    "df = pd.DataFrame(response.json()['data'], columns = response.json()['columns'])"
   ]
  },
  {
   "cell_type": "code",
   "execution_count": 22,
   "metadata": {},
   "outputs": [
    {
     "data": {
      "text/html": [
       "<div>\n",
       "<style scoped>\n",
       "    .dataframe tbody tr th:only-of-type {\n",
       "        vertical-align: middle;\n",
       "    }\n",
       "\n",
       "    .dataframe tbody tr th {\n",
       "        vertical-align: top;\n",
       "    }\n",
       "\n",
       "    .dataframe thead th {\n",
       "        text-align: right;\n",
       "    }\n",
       "</style>\n",
       "<table border=\"1\" class=\"dataframe\">\n",
       "  <thead>\n",
       "    <tr style=\"text-align: right;\">\n",
       "      <th></th>\n",
       "      <th>companyDescription</th>\n",
       "      <th>endFy</th>\n",
       "      <th>id</th>\n",
       "      <th>industryName</th>\n",
       "      <th>isin</th>\n",
       "      <th>market</th>\n",
       "      <th>name</th>\n",
       "      <th>numEmployees</th>\n",
       "      <th>sectorCode</th>\n",
       "      <th>sectorName</th>\n",
       "      <th>ticker</th>\n",
       "    </tr>\n",
       "  </thead>\n",
       "  <tbody>\n",
       "    <tr>\n",
       "      <th>0</th>\n",
       "      <td>Sterling Bancorp, whose principal subsidiary i...</td>\n",
       "      <td>9.0</td>\n",
       "      <td>1234791</td>\n",
       "      <td>Financial Services</td>\n",
       "      <td>US85917A1007</td>\n",
       "      <td>US</td>\n",
       "      <td>STERLING BANCORP</td>\n",
       "      <td>1439.0</td>\n",
       "      <td>104002.0</td>\n",
       "      <td>Banks</td>\n",
       "      <td>STL</td>\n",
       "    </tr>\n",
       "    <tr>\n",
       "      <th>1</th>\n",
       "      <td>None</td>\n",
       "      <td>12.0</td>\n",
       "      <td>1242008</td>\n",
       "      <td>None</td>\n",
       "      <td>None</td>\n",
       "      <td>US</td>\n",
       "      <td>NEVSUN RESOURCES LTD</td>\n",
       "      <td>NaN</td>\n",
       "      <td>NaN</td>\n",
       "      <td>None</td>\n",
       "      <td>NSU</td>\n",
       "    </tr>\n",
       "    <tr>\n",
       "      <th>2</th>\n",
       "      <td>None</td>\n",
       "      <td>12.0</td>\n",
       "      <td>1247792</td>\n",
       "      <td>None</td>\n",
       "      <td>None</td>\n",
       "      <td>US</td>\n",
       "      <td>Icanic Brands Co Inc.</td>\n",
       "      <td>NaN</td>\n",
       "      <td>NaN</td>\n",
       "      <td>None</td>\n",
       "      <td>PINX:ICNAF</td>\n",
       "    </tr>\n",
       "  </tbody>\n",
       "</table>\n",
       "</div>"
      ],
      "text/plain": [
       "                                  companyDescription  endFy       id  \\\n",
       "0  Sterling Bancorp, whose principal subsidiary i...    9.0  1234791   \n",
       "1                                               None   12.0  1242008   \n",
       "2                                               None   12.0  1247792   \n",
       "\n",
       "         industryName          isin market                   name  \\\n",
       "0  Financial Services  US85917A1007     US       STERLING BANCORP   \n",
       "1                None          None     US   NEVSUN RESOURCES LTD   \n",
       "2                None          None     US  Icanic Brands Co Inc.   \n",
       "\n",
       "   numEmployees  sectorCode sectorName      ticker  \n",
       "0        1439.0    104002.0      Banks         STL  \n",
       "1           NaN         NaN       None         NSU  \n",
       "2           NaN         NaN       None  PINX:ICNAF  "
      ]
     },
     "execution_count": 22,
     "metadata": {},
     "output_type": "execute_result"
    }
   ],
   "source": [
    "df.head(3)"
   ]
  },
  {
   "cell_type": "code",
   "execution_count": 23,
   "metadata": {},
   "outputs": [],
   "source": [
    "os.makedirs(\"data/RAW\", exist_ok=True)\n",
    "df.to_csv('data/RAW/companies.csv')"
   ]
  },
  {
   "cell_type": "code",
   "execution_count": 24,
   "metadata": {},
   "outputs": [
    {
     "name": "stdout",
     "output_type": "stream",
     "text": [
      "hello\n"
     ]
    }
   ],
   "source": [
    "print('hello')"
   ]
  }
 ],
 "metadata": {
  "kernelspec": {
   "display_name": ".venv",
   "language": "python",
   "name": "python3"
  },
  "language_info": {
   "codemirror_mode": {
    "name": "ipython",
    "version": 3
   },
   "file_extension": ".py",
   "mimetype": "text/x-python",
   "name": "python",
   "nbconvert_exporter": "python",
   "pygments_lexer": "ipython3",
   "version": "3.12.0"
  }
 },
 "nbformat": 4,
 "nbformat_minor": 2
}
